{
 "cells": [
  {
   "cell_type": "code",
   "execution_count": 2,
   "id": "36408f44-7aba-4b9f-ba2a-0d425e8aa900",
   "metadata": {},
   "outputs": [],
   "source": [
    "import pandas as pd"
   ]
  },
  {
   "cell_type": "code",
   "execution_count": 4,
   "id": "baa38076-c923-4d93-b8c2-b4d346067c2e",
   "metadata": {},
   "outputs": [],
   "source": [
    "data = pd.read_html(\"https://wiki.archlinux.org/title/Pacman/Rosetta\")"
   ]
  },
  {
   "cell_type": "code",
   "execution_count": 21,
   "id": "fac65a11-dfeb-46b4-a8fa-c4807961f862",
   "metadata": {},
   "outputs": [],
   "source": [
    "output = [df.iloc[:, [0, 2, 3]] for df in data]"
   ]
  },
  {
   "cell_type": "code",
   "execution_count": 26,
   "id": "218bb79a-6c57-4a06-9090-adfa282fb89d",
   "metadata": {},
   "outputs": [],
   "source": [
    "with open(\"output.html\", 'w') as file:\n",
    "    for df in output:\n",
    "        file.write(df.to_html(index=False, justify=\"center\"))"
   ]
  }
 ],
 "metadata": {
  "kernelspec": {
   "display_name": "Python 3 (ipykernel)",
   "language": "python",
   "name": "python3"
  },
  "language_info": {
   "codemirror_mode": {
    "name": "ipython",
    "version": 3
   },
   "file_extension": ".py",
   "mimetype": "text/x-python",
   "name": "python",
   "nbconvert_exporter": "python",
   "pygments_lexer": "ipython3",
   "version": "3.13.2"
  }
 },
 "nbformat": 4,
 "nbformat_minor": 5
}
