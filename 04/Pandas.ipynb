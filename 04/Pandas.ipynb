{
  "nbformat": 4,
  "nbformat_minor": 0,
  "metadata": {
    "colab": {
      "provenance": [],
      "toc_visible": true
    },
    "kernelspec": {
      "name": "python3",
      "display_name": "Python 3"
    },
    "language_info": {
      "name": "python"
    }
  },
  "cells": [
    {
      "cell_type": "markdown",
      "source": [
        "# Pandas"
      ],
      "metadata": {
        "id": "Wkty7NlnjCV-"
      }
    },
    {
      "cell_type": "markdown",
      "source": [
        "Pandas je výkonná a všestranná knihovna pro jazyk Python, která se specializuje na zpracování a analýzu dat. Je široce používaná v oblasti datové vědy, strojového učení a statistiky kvůli své schopnosti efektivně pracovat s daty ve formě tabulek.\n",
        "\n",
        "Název pochází z termínu \"Panel Data\", což je ekonomický termín pro multidimenzionální struktury dat."
      ],
      "metadata": {
        "id": "2gsEramal4Tg"
      }
    },
    {
      "cell_type": "markdown",
      "source": [
        "## Stručná úvodní ukázka"
      ],
      "metadata": {
        "id": "TTqGmf0gjHvn"
      }
    },
    {
      "cell_type": "code",
      "source": [
        "# import knihovny pandas a nastavení běžně používaného aliasu\n",
        "import pandas as pd"
      ],
      "metadata": {
        "id": "_Jv7osSzmNCL"
      },
      "execution_count": null,
      "outputs": []
    },
    {
      "cell_type": "code",
      "source": [
        "# vytvoření jednoduchého ukázkového datasetu\n",
        "# praktická pozn.: dataset se takto v praxi většinou nevytváří, k tomu slouží zdroje z csv a jiných souborů, zdroje dat z SQL, API apod.\n",
        "data_ukazka = {\n",
        "    'Jméno': ['Anna', 'Petr', 'Eva', 'Tomáš', 'Jiří', 'Karel', 'Ivan', 'Květa'],\n",
        "    'Věk': [28, 35, 22, 30, 23, 45, 31, 43],\n",
        "    'Plat': [50000, 52000, 48000, 51000, 38500, 23000, 53500, 59000]\n",
        "}"
      ],
      "metadata": {
        "id": "qlsV96LKmNFC"
      },
      "execution_count": null,
      "outputs": []
    },
    {
      "cell_type": "code",
      "source": [
        "# vytvoření DataFrame z ukázkového datasetu a uložení do proměnné\n",
        "df_ukazka = pd.DataFrame(data_ukazka)"
      ],
      "metadata": {
        "id": "F-vMnf2pmNIN"
      },
      "execution_count": null,
      "outputs": []
    },
    {
      "cell_type": "code",
      "source": [
        "# zobrazení prvních záznamů z dataframu (pokud nezadáme číslo jako parametr, zobrazí se 5 prvních záznamů)\n",
        "df_ukazka.head()"
      ],
      "metadata": {
        "id": "eulR5r6bnAzK"
      },
      "execution_count": null,
      "outputs": []
    },
    {
      "cell_type": "code",
      "source": [
        "# získání informací o dataframu a jeho sloupcích\n",
        "df_ukazka.info()"
      ],
      "metadata": {
        "id": "DV678oNnn9_W"
      },
      "execution_count": null,
      "outputs": []
    },
    {
      "cell_type": "code",
      "source": [
        "# filtrování zaměstnanců podle věku\n",
        "df_ukazka[df_ukazka['Věk'] > 33]"
      ],
      "metadata": {
        "id": "OwVy2zyEoP7t"
      },
      "execution_count": null,
      "outputs": []
    },
    {
      "cell_type": "markdown",
      "source": [
        "## Objekty a datové typy"
      ],
      "metadata": {
        "id": "sKJmK1hXjrjZ"
      }
    },
    {
      "cell_type": "markdown",
      "source": [
        "### Objekty"
      ],
      "metadata": {
        "id": "-n3_871hj2Vs"
      }
    },
    {
      "cell_type": "markdown",
      "source": [
        "- **Series**: Jednorozměrné pole podobné seznamu.\n",
        "- **DataFrame**: Dvourozměrná tabulka (podobná Excelu) s řádky a sloupci."
      ],
      "metadata": {
        "id": "DgzA76TUj6_X"
      }
    },
    {
      "cell_type": "markdown",
      "source": [
        "### Datové typy"
      ],
      "metadata": {
        "id": "2eUlbkmmouTz"
      }
    },
    {
      "cell_type": "markdown",
      "source": [
        "Pandas používá datové typy na základě knihovny NumPy, které rozšiřuje o některé specifické datové typy:\n",
        "\n",
        "| Datový typ       | Popis                                                   |\n",
        "|------------------|---------------------------------------------------------|\n",
        "| `int64`          | celočíselné hodnoty (např. 1, 100, -5).                 |\n",
        "| `float64`        | Desetinná čísla (např. 3.14, -0.01).                    |\n",
        "| `bool`           | Logické hodnoty (True / False).                         |\n",
        "| `object`         |  Obecný typ (obvykle pro řetězce nebo smíšená data).    |\n",
        "| `string`         | Specifický typ pro textová data (od pandas 1.0).        |\n",
        "| `datetime64[ns]` | Datum a čas (např. '2023-11-20 12:00:00').              |\n",
        "| `timedelta[ns]`  | Rozdíl mezi dvěma datovými body (časový rozdíl).        |\n",
        "| `category`       | Optimalizovaný typ pro opakující se kategorie.          |\n"
      ],
      "metadata": {
        "id": "x2LOIDOmpC3P"
      }
    },
    {
      "cell_type": "markdown",
      "source": [
        "## Načítání a ukládání dat"
      ],
      "metadata": {
        "id": "p5Oc2ZS3kH00"
      }
    },
    {
      "cell_type": "markdown",
      "source": [
        "- Podpora formátů: CSV, Excel, SQL, JSON, HTML, HDF5, atd.\n",
        "- Funkce:\n",
        " - pd.read_csv(), pd.to_csv()\n",
        " - pd.read_excel(), pd.to_excel()"
      ],
      "metadata": {
        "id": "CQaB6PJzkNB2"
      }
    },
    {
      "cell_type": "code",
      "source": [
        "import pandas as pd\n",
        "\n",
        "df_people = pd.read_csv('zamestnanci.csv', sep=';')\n"
      ],
      "metadata": {
        "collapsed": true,
        "id": "ElHLOCtE8BdW"
      },
      "execution_count": null,
      "outputs": []
    },
    {
      "cell_type": "markdown",
      "source": [
        " ## Prohlízení dat a informací"
      ],
      "metadata": {
        "id": "itSshhZRWBMN"
      }
    },
    {
      "cell_type": "markdown",
      "source": [
        "### Samotná data"
      ],
      "metadata": {
        "id": "-eg9wLDVWU4j"
      }
    },
    {
      "cell_type": "markdown",
      "source": [
        " -  celé řádky dataframu od začátku"
      ],
      "metadata": {
        "id": "C5nw6TB9WbOF"
      }
    },
    {
      "cell_type": "code",
      "source": [
        "df_people.head() # Defaultně zobrazí prvních 5 řádků"
      ],
      "metadata": {
        "id": "fP3H2QAqWayx"
      },
      "execution_count": null,
      "outputs": []
    },
    {
      "cell_type": "code",
      "source": [
        "df_people.head(10)  # Zobrazí prvních 10 řádků"
      ],
      "metadata": {
        "id": "7dIsDTRCWvSM"
      },
      "execution_count": null,
      "outputs": []
    },
    {
      "cell_type": "markdown",
      "source": [
        "- celé řádky dataframu od konce"
      ],
      "metadata": {
        "id": "5DpJS2sUW7cv"
      }
    },
    {
      "cell_type": "code",
      "source": [
        "df_people.tail()  # Defaultně zobrazí posledních 5 řádků"
      ],
      "metadata": {
        "id": "-FpkOItOW68M"
      },
      "execution_count": null,
      "outputs": []
    },
    {
      "cell_type": "code",
      "source": [
        "df_people.tail(8)  # Zobrazí posledních 8 řádků"
      ],
      "metadata": {
        "id": "uDZnmGs4XDAU"
      },
      "execution_count": null,
      "outputs": []
    },
    {
      "cell_type": "markdown",
      "source": [
        " - náhodné řádky z tabulky"
      ],
      "metadata": {
        "id": "CvlRfINvc0FG"
      }
    },
    {
      "cell_type": "code",
      "source": [
        "df_people.sample() # Defaultně zobrazí 5 náhodných řádků"
      ],
      "metadata": {
        "id": "DdoF_r48cz5w"
      },
      "execution_count": null,
      "outputs": []
    },
    {
      "cell_type": "code",
      "source": [
        "df_people.sample(10) # Zobrazí 10 náhodných řádků"
      ],
      "metadata": {
        "id": "iIvkwErdc83D"
      },
      "execution_count": null,
      "outputs": []
    },
    {
      "cell_type": "markdown",
      "source": [
        " - výběr konkrétního sloupce"
      ],
      "metadata": {
        "id": "vxA1xqPXauCr"
      }
    },
    {
      "cell_type": "code",
      "source": [
        "df_people['Name']"
      ],
      "metadata": {
        "id": "u34yTZvJa34A"
      },
      "execution_count": null,
      "outputs": []
    },
    {
      "cell_type": "markdown",
      "source": [
        " - výběr více sloupců"
      ],
      "metadata": {
        "id": "V64k76FLa8ch"
      }
    },
    {
      "cell_type": "code",
      "source": [
        "df_people[['Name', 'Age']]"
      ],
      "metadata": {
        "id": "AOo1YREha80i"
      },
      "execution_count": null,
      "outputs": []
    },
    {
      "cell_type": "markdown",
      "source": [
        " - výběr prvních nebo posledních několika řádků konkrétního sloupce"
      ],
      "metadata": {
        "id": "X8gzz0_pbFRd"
      }
    },
    {
      "cell_type": "code",
      "source": [
        "df_people['Salary'].head()  # Zobrazí mzdy prvních 5 řádků"
      ],
      "metadata": {
        "id": "CYFxl92hbFlY"
      },
      "execution_count": null,
      "outputs": []
    },
    {
      "cell_type": "code",
      "source": [
        "df_people['Salary'].tail()  # Zobrazí mzdy posledních 5 řádků"
      ],
      "metadata": {
        "id": "yh-AvWdBbKMB"
      },
      "execution_count": null,
      "outputs": []
    },
    {
      "cell_type": "markdown",
      "source": [
        " - Výběr konkrétní buňky (hodnoty)"
      ],
      "metadata": {
        "id": "guCHoivKb3Kp"
      }
    },
    {
      "cell_type": "code",
      "source": [
        "df_people.iloc[0, 2]  # Hodnota 1. řádku a 3. sloupce"
      ],
      "metadata": {
        "id": "Q8gcUALHb8j_"
      },
      "execution_count": null,
      "outputs": []
    },
    {
      "cell_type": "code",
      "source": [
        "df_people.loc[0, 'City']  # Hodnota 1. řádku ve sloupci \"City\""
      ],
      "metadata": {
        "id": "0VlFQrUvb-cE"
      },
      "execution_count": null,
      "outputs": []
    },
    {
      "cell_type": "markdown",
      "source": [
        "- jedinečné hodnoty"
      ],
      "metadata": {
        "id": "uc38T_HYwqoL"
      }
    },
    {
      "cell_type": "code",
      "source": [
        "df_people['City'].unique()"
      ],
      "metadata": {
        "id": "n1JawTw-wpWA"
      },
      "execution_count": null,
      "outputs": []
    },
    {
      "cell_type": "markdown",
      "source": [
        " - rychlý pohled na strukturu a velikost dat"
      ],
      "metadata": {
        "id": "Oxmi3iHOYODF"
      }
    },
    {
      "cell_type": "code",
      "source": [
        "df_people.info()"
      ],
      "metadata": {
        "id": "nqOBuNa8YTVu"
      },
      "execution_count": null,
      "outputs": []
    },
    {
      "cell_type": "markdown",
      "source": [
        " - počet řádků a sloupců"
      ],
      "metadata": {
        "id": "cne4ZICxYqtr"
      }
    },
    {
      "cell_type": "code",
      "source": [
        "df_people.shape"
      ],
      "metadata": {
        "id": "rsnFvjCuYuO9"
      },
      "execution_count": null,
      "outputs": []
    },
    {
      "cell_type": "markdown",
      "source": [
        " - názvy sloupců"
      ],
      "metadata": {
        "id": "0oc1YnFVYybx"
      }
    },
    {
      "cell_type": "code",
      "source": [
        "df_people.columns"
      ],
      "metadata": {
        "id": "uwlEtXNfYyD2"
      },
      "execution_count": null,
      "outputs": []
    },
    {
      "cell_type": "markdown",
      "source": [
        " - základní statistika"
      ],
      "metadata": {
        "id": "oA19Dg3YY6v5"
      }
    },
    {
      "cell_type": "code",
      "source": [
        "df_people.describe() # Poskytne základní statistiky pro číselné sloupce"
      ],
      "metadata": {
        "id": "iinGPwG8ZBoQ"
      },
      "execution_count": null,
      "outputs": []
    },
    {
      "cell_type": "code",
      "source": [
        "df_people.describe(include='all') # Poskytne základní statistiky pro všechny sloupce"
      ],
      "metadata": {
        "id": "ZZUBFOsqZH9S"
      },
      "execution_count": null,
      "outputs": []
    },
    {
      "cell_type": "markdown",
      "source": [
        " - počet jedinečných hodnot v každém sloupci"
      ],
      "metadata": {
        "id": "F2vUX4WWccHt"
      }
    },
    {
      "cell_type": "code",
      "source": [
        "df_people.nunique()"
      ],
      "metadata": {
        "id": "LPZOw8Cpcb56"
      },
      "execution_count": null,
      "outputs": []
    },
    {
      "cell_type": "markdown",
      "source": [
        " - četnost (počet výskytů) jedinečných hodnot"
      ],
      "metadata": {
        "id": "8JPXdU9BcrYW"
      }
    },
    {
      "cell_type": "code",
      "source": [
        "df_people['City'].value_counts()"
      ],
      "metadata": {
        "id": "1pSeDJEpcrlC"
      },
      "execution_count": null,
      "outputs": []
    },
    {
      "cell_type": "markdown",
      "source": [
        "## Manipulace dat"
      ],
      "metadata": {
        "id": "1MmDT0k4kTxo"
      }
    },
    {
      "cell_type": "markdown",
      "source": [
        "### Úprava datových typů"
      ],
      "metadata": {
        "id": "BLNaZVfVVdhD"
      }
    },
    {
      "cell_type": "markdown",
      "source": [
        " - v přechozí části jsme se dozvěděli, jaké datové typy Pandas používá\n",
        " - protože se může stát, že Pandas datový typ nerozpozná, případně jej chceme sami změnit, je to možné udělat následujícím způsobem:"
      ],
      "metadata": {
        "id": "FH1abIG1ViC5"
      }
    },
    {
      "cell_type": "code",
      "source": [
        "df_people.info()"
      ],
      "metadata": {
        "id": "Qd9L76rYkg_I"
      },
      "execution_count": null,
      "outputs": []
    },
    {
      "cell_type": "code",
      "source": [
        "df_people['City'] = df_people['City'].astype('category')"
      ],
      "metadata": {
        "id": "pDpfzPhXVg79"
      },
      "execution_count": null,
      "outputs": []
    },
    {
      "cell_type": "code",
      "source": [
        "df_people['Salary'] = df_people['Salary'].astype('float')"
      ],
      "metadata": {
        "id": "e62QvlCXkPvE"
      },
      "execution_count": null,
      "outputs": []
    },
    {
      "cell_type": "code",
      "source": [
        "df_people.info()"
      ],
      "metadata": {
        "id": "ZkUp4x62kcqZ"
      },
      "execution_count": null,
      "outputs": []
    },
    {
      "cell_type": "markdown",
      "source": [
        "### Filtrování a podmíněné výběry dat"
      ],
      "metadata": {
        "id": "s0bF3vG8geaM"
      }
    },
    {
      "cell_type": "markdown",
      "source": [
        "#### Typy podmínek"
      ],
      "metadata": {
        "id": "JBO2rjGegtju"
      }
    },
    {
      "cell_type": "markdown",
      "source": [
        "| Operátor | Význam                          | Příklad použití                        |\n",
        "|----------|----------------------------------|----------------------------------------|\n",
        "| `==`     | Rovnost                         | df[df[\"Věk\"] == 30]                   |\n",
        "| `!=`     | Nerovnost                       | df[df[\"Město\"] != \"Praha\"]            |\n",
        "| `>`      | Větší než                       | df[df[\"Plat\"] > 50000]                |\n",
        "| `<`      | Menší než                       | df[df[\"Věk\"] < 40]                    |\n",
        "| `>=`     | Větší nebo rovno                | df[df[\"Věk\"] >= 25]                   |\n",
        "| `<=`     | Menší nebo rovno                | df[df[\"Plat\"] <= 60000]               |\n",
        "| `&`      | Logické A (AND)                 | df[(df[\"Věk\"] > 25) & (df[\"Plat\"] > 50000)] |\n",
        "| `\\|`      | Logické NEBO (OR)               | df[(df[\"Město\"] == \"Praha\") \\| (df[\"Město\"] == \"Brno\")] |\n",
        "| `~`      | Logická negace (NOT)            | df[~(df[\"Město\"] == \"Brno\")]          |\n",
        "| `.isin()`| Hodnota obsahuje v seznamu      | df[df[\"Město\"].isin([\"Praha\", \"Brno\"])]|\n",
        "| `.str.contains()` | Obsahuje podřetězec     | df[df[\"Jméno\"].str.contains(\"ov\")]    |"
      ],
      "metadata": {
        "id": "cGhIFg5Yi7mt"
      }
    },
    {
      "cell_type": "markdown",
      "source": [
        "#### Ukázky"
      ],
      "metadata": {
        "id": "JspnPVxOjbJ3"
      }
    },
    {
      "cell_type": "markdown",
      "source": [
        " - pro potřeby filtrování využijeme v Pandas podmínku"
      ],
      "metadata": {
        "id": "qFTEbIdFgzan"
      }
    },
    {
      "cell_type": "code",
      "source": [
        "df_people[df_people[\"Salary\"] > 50000]"
      ],
      "metadata": {
        "id": "wqudPol_gyuL"
      },
      "execution_count": null,
      "outputs": []
    },
    {
      "cell_type": "markdown",
      "source": [
        " - podmínek může být víc a můžeme je sdružovat podobně jako v Pythonu\n",
        " - jen musíme využít `&` pro logické A, `|` pro logické NEBO, `~` pro logické NEGACE."
      ],
      "metadata": {
        "id": "z-9l2f-lhPqq"
      }
    },
    {
      "cell_type": "code",
      "source": [
        "df_people[(df_people[\"Salary\"] > 60000) & (df_people[\"City\"] == \"Prague\")]"
      ],
      "metadata": {
        "id": "ykYZ5YWYhOdj"
      },
      "execution_count": null,
      "outputs": []
    },
    {
      "cell_type": "code",
      "source": [
        "df_people[(df_people[\"Name\"] == 'Hana') | (df_people[\"Age\"] == 33)]"
      ],
      "metadata": {
        "id": "Q2aqcPlOhjWL"
      },
      "execution_count": null,
      "outputs": []
    },
    {
      "cell_type": "code",
      "source": [
        "df_people[~(df_people[\"Name\"] == 'Hana')]"
      ],
      "metadata": {
        "id": "opmi5MUChjKA"
      },
      "execution_count": null,
      "outputs": []
    },
    {
      "cell_type": "markdown",
      "source": [
        " - lze také filtrovat na základě zjištění, zda je hodnota obsažena ve výčtu jiných hodnot"
      ],
      "metadata": {
        "id": "tTSdMsWpiIbe"
      }
    },
    {
      "cell_type": "code",
      "source": [
        "vip_jmena = ['Jiří', 'Lenka', 'Martin']\n",
        "df_people[df_people['Name'].isin(vip_jmena)]"
      ],
      "metadata": {
        "id": "G3G14OvCiJUw"
      },
      "execution_count": null,
      "outputs": []
    },
    {
      "cell_type": "markdown",
      "source": [
        " - jako poslední si ukážeme způsob, jak zjistit, zda text obsahuje uvedenou část"
      ],
      "metadata": {
        "id": "qJ6120kfjIFD"
      }
    },
    {
      "cell_type": "code",
      "source": [
        "df_people[df_people['Name'].str.contains('iř')]"
      ],
      "metadata": {
        "id": "G6X21s2AjH67"
      },
      "execution_count": null,
      "outputs": []
    },
    {
      "cell_type": "markdown",
      "source": [
        "- Výběr řádků a sloupců (pomocí loc, iloc).\n",
        "- Filtrování a podmíněné výběry.\n",
        "- Přidávání, úprava a mazání sloupců."
      ],
      "metadata": {
        "id": "ALMz-ic7kZhK"
      }
    },
    {
      "cell_type": "markdown",
      "source": [
        "### Práce s chybějícími hodnotami"
      ],
      "metadata": {
        "id": "zdDNDXm_rcK1"
      }
    },
    {
      "cell_type": "markdown",
      "source": [
        "| Operace                        | Příkaz                                                                |\n",
        "|--------------------------------|-----------------------------------------------------------------------|\n",
        "| Kontrola NaN                   | `df.isna()`                                                          |\n",
        "| Počet NaN                      | `df.isna().sum()`                                                    |\n",
        "| Odstranění řádků s NaN         | `df.dropna()`                                                        |\n",
        "| Odstranění sloupců s NaN       | `df.dropna(axis=1)`                                                  |\n",
        "| Nahrazení konkrétní hodnotou   | `df.fillna(hodnota)`                                                 |\n",
        "| Nahrazení průměrnou hodnotou   | `df.fillna(df[\"sloupec\"].mean())`                                    |\n",
        "| Forward fill (nahradit dopředu)| `df.fillna(method=\"ffill\")`                                          |\n",
        "| Filtrování řádků s NaN         | `df[df.isna().any(axis=1)]`                                          |\n",
        "| Filtrování řádků bez NaN       | `df[df.notna().all(axis=1)]`                                         |"
      ],
      "metadata": {
        "id": "XB8B1aq1rwpM"
      }
    },
    {
      "cell_type": "markdown",
      "source": [
        " - chybějící hodnoty"
      ],
      "metadata": {
        "id": "dvEDiikTr-24"
      }
    },
    {
      "cell_type": "code",
      "source": [
        "df_people.sample(5).isna()"
      ],
      "metadata": {
        "id": "KHiJz7qvr_J9"
      },
      "execution_count": null,
      "outputs": []
    },
    {
      "cell_type": "markdown",
      "source": [
        " - počet chybějících hodnot po sloupcích"
      ],
      "metadata": {
        "id": "U3QDB-EnsLS1"
      }
    },
    {
      "cell_type": "code",
      "source": [
        "df_people.isna().sum()"
      ],
      "metadata": {
        "id": "sp2aVMPhsLoU"
      },
      "execution_count": null,
      "outputs": []
    },
    {
      "cell_type": "markdown",
      "source": [
        " - odstranění všech řádků s alespoň jednou chybějící hodnotou"
      ],
      "metadata": {
        "id": "sy3czjtMsXpI"
      }
    },
    {
      "cell_type": "code",
      "source": [
        "df_people.dropna()"
      ],
      "metadata": {
        "id": "C33ZuMR7sX_k"
      },
      "execution_count": null,
      "outputs": []
    },
    {
      "cell_type": "markdown",
      "source": [
        " - odstranění sloupců s alespoň jednou chybějící hodnotou"
      ],
      "metadata": {
        "id": "kC_94rIjsvMQ"
      }
    },
    {
      "cell_type": "code",
      "source": [
        "df_people.dropna(axis=1)"
      ],
      "metadata": {
        "id": "7zsODynpsm0D"
      },
      "execution_count": null,
      "outputs": []
    },
    {
      "cell_type": "markdown",
      "source": [
        " - nahrazení konkrétní hodnotou"
      ],
      "metadata": {
        "id": "0_QvZd0Gt2rJ"
      }
    },
    {
      "cell_type": "code",
      "source": [
        "mean_salary = df_people[\"Salary\"].fillna(0)\n",
        "df_people[\"Salary\"].fillna(mean_salary)"
      ],
      "metadata": {
        "id": "rYe2VVO_t3Bn"
      },
      "execution_count": null,
      "outputs": []
    },
    {
      "cell_type": "markdown",
      "source": [
        " - nahrazení vypočtenou hodnotou"
      ],
      "metadata": {
        "id": "QYbBPhFqu0ft"
      }
    },
    {
      "cell_type": "code",
      "source": [
        "df_people[\"Salary\"].mean()"
      ],
      "metadata": {
        "id": "0uk66ehpu0rh"
      },
      "execution_count": null,
      "outputs": []
    },
    {
      "cell_type": "markdown",
      "source": [
        "## Agregace a transformace dat"
      ],
      "metadata": {
        "id": "xfP_P-VjlXn4"
      }
    },
    {
      "cell_type": "markdown",
      "source": [
        "### Agregační funkce"
      ],
      "metadata": {
        "id": "ss5z-IX4k7KS"
      }
    },
    {
      "cell_type": "markdown",
      "source": [
        "| Funkce            | Popis                                  | Příklad použití                         |\n",
        "|--------------------|----------------------------------------|-----------------------------------------|\n",
        "| `.sum()`          | Součet hodnot                         | df[\"Plat\"].sum()                       |\n",
        "| `.mean()`         | Průměrná hodnota                      | df[\"Plat\"].mean()                      |\n",
        "| `.median()`       | Mediánová hodnota                     | df[\"Plat\"].median()                    |\n",
        "| `.min()`          | Nejmenší hodnota                      | df[\"Věk\"].min()                        |\n",
        "| `.max()`          | Největší hodnota                      | df[\"Věk\"].max()                        |\n",
        "| `.count()`        | Počet hodnot                          | df[\"Město\"].count()                    |\n",
        "| `.std()`          | Směrodatná odchylka                   | df[\"Plat\"].std()                       |\n",
        "| `.var()`          | Variance                              | df[\"Plat\"].var()                       |\n",
        "| `.prod()`         | Součin všech hodnot                   | df[\"Plat\"].prod()                      |\n",
        "| `.agg()`          | Aplikace více agregací najednou       | df[\"Plat\"].agg(['sum', 'mean'])        |\n",
        "| `.quantile()`     | Hodnota kvantilu                      | df[\"Plat\"].quantile(0.75)              |"
      ],
      "metadata": {
        "id": "Wt6WWgSVk6_p"
      }
    },
    {
      "cell_type": "code",
      "source": [
        "df_people[\"Salary\"].mean()"
      ],
      "metadata": {
        "id": "b3MtmvWKm3tG"
      },
      "execution_count": null,
      "outputs": []
    },
    {
      "cell_type": "code",
      "source": [
        "df_people[\"Salary\"].median()"
      ],
      "metadata": {
        "id": "CQVt4QIvozh_"
      },
      "execution_count": null,
      "outputs": []
    },
    {
      "cell_type": "code",
      "source": [
        "df_people[\"Age\"].min()"
      ],
      "metadata": {
        "id": "yEx4Iluyo4nt"
      },
      "execution_count": null,
      "outputs": []
    },
    {
      "cell_type": "code",
      "source": [
        "df_people[\"Age\"].max()"
      ],
      "metadata": {
        "id": "jo53JqBno4ZB"
      },
      "execution_count": null,
      "outputs": []
    },
    {
      "cell_type": "code",
      "source": [
        "df_people['Active'].count()"
      ],
      "metadata": {
        "id": "aU5sHle2m2kq"
      },
      "execution_count": null,
      "outputs": []
    },
    {
      "cell_type": "markdown",
      "source": [
        "- Funkce jako groupby(), pivot_table(), merge(), join().\n",
        "- Převod a manipulace číselných, textových nebo časových dat."
      ],
      "metadata": {
        "id": "I2Y6WC7HlbgU"
      }
    },
    {
      "cell_type": "markdown",
      "source": [
        "### Seskupení dat"
      ],
      "metadata": {
        "id": "IzW4BmvJp1Zf"
      }
    },
    {
      "cell_type": "markdown",
      "source": [
        " - pomocí groupby můžeme data seskupit a využít agregační funkce"
      ],
      "metadata": {
        "id": "4KVpqYW2p_EM"
      }
    },
    {
      "cell_type": "code",
      "source": [
        "df_people.groupby(\"City\", observed=True)[\"Salary\"].mean() # Jednoduchá agregace"
      ],
      "metadata": {
        "id": "DN6cTmdKqJxU"
      },
      "execution_count": null,
      "outputs": []
    },
    {
      "cell_type": "code",
      "source": [
        "df_people.groupby([\"City\", \"Age\"], observed=True)[\"Salary\"].sum() # Víceklíčová agregace"
      ],
      "metadata": {
        "id": "_AMYkXoqqTKF"
      },
      "execution_count": null,
      "outputs": []
    },
    {
      "cell_type": "code",
      "source": [
        "df_people.groupby(\"City\", observed=True).agg({\"Age\": \"mean\", \"Salary\": \"sum\"}) # Použití více agregací"
      ],
      "metadata": {
        "id": "0NjyjOHtqiWG"
      },
      "execution_count": null,
      "outputs": []
    },
    {
      "cell_type": "code",
      "source": [
        "df_people.groupby(\"City\", observed=True).filter(lambda x: x[\"Age\"].mean() > 32) # Filtrování skupin"
      ],
      "metadata": {
        "id": "WkDD6RpKqswe"
      },
      "execution_count": null,
      "outputs": []
    },
    {
      "cell_type": "code",
      "source": [
        "df_people.groupby([\"Age\"]).size() # Počet záznamů ve skupinách"
      ],
      "metadata": {
        "id": "fUJOKE31p0jg"
      },
      "execution_count": null,
      "outputs": []
    },
    {
      "cell_type": "markdown",
      "source": [
        "- Statistika: mean(), median(), sum(), count().\n",
        "- Práce s chybějícími hodnotami: isnull(), fillna(), dropna()."
      ],
      "metadata": {
        "id": "HNRilCmHlf8s"
      }
    }
  ]
}